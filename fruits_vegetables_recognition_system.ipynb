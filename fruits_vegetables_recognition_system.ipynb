{
  "cells": [
    {
      "cell_type": "markdown",
      "metadata": {
        "id": "view-in-github",
        "colab_type": "text"
      },
      "source": [
        "<a href=\"https://colab.research.google.com/github/khansakib68/Fruits_vegetables_recognition_system/blob/main/fruits_vegetables_recognition_system.ipynb\" target=\"_parent\"><img src=\"https://colab.research.google.com/assets/colab-badge.svg\" alt=\"Open In Colab\"/></a>"
      ]
    },
    {
      "cell_type": "code",
      "execution_count": null,
      "metadata": {
        "colab": {
          "base_uri": "https://localhost:8080/"
        },
        "id": "iFtLoeUkFctV",
        "outputId": "ae9db9ef-e7f6-4f16-fbdc-f6dc21548820"
      },
      "outputs": [
        {
          "output_type": "stream",
          "name": "stdout",
          "text": [
            "Drive already mounted at /content/drive; to attempt to forcibly remount, call drive.mount(\"/content/drive\", force_remount=True).\n"
          ]
        }
      ],
      "source": [
        "from google.colab import drive\n",
        "drive.mount('/content/drive')"
      ]
    },
    {
      "cell_type": "code",
      "execution_count": null,
      "metadata": {
        "id": "gIrE9_zmHsvW"
      },
      "outputs": [],
      "source": [
        "import numpy as np\n",
        "import tensorflow as tf\n",
        "import matplotlib.pyplot as plt"
      ]
    },
    {
      "cell_type": "markdown",
      "metadata": {
        "id": "OaxRRNNgtA_h"
      },
      "source": [
        "Data preprocessing0.\n",
        "TRAINING DATA PREPROCESSING"
      ]
    },
    {
      "cell_type": "code",
      "execution_count": null,
      "metadata": {
        "colab": {
          "base_uri": "https://localhost:8080/"
        },
        "id": "zobT9WNmsPpY",
        "outputId": "2bf86608-c3c2-4e41-962d-ea29a7889169"
      },
      "outputs": [
        {
          "output_type": "stream",
          "name": "stdout",
          "text": [
            "Found 3115 files belonging to 36 classes.\n"
          ]
        }
      ],
      "source": [
        "training_set1= tf.keras.utils.image_dataset_from_directory(\n",
        "    '/content/drive/MyDrive/project_unv/train', labels='inferred', label_mode='categorical',\n",
        "    class_names=None,\n",
        "    color_mode='rgb',\n",
        "    batch_size= 32, image_size=(64,64),\n",
        "    shuffle= True,\n",
        "    seed=None,\n",
        "    validation_split=None,\n",
        "    subset=None,\n",
        "    interpolation='bilinear',\n",
        "    follow_links=False,\n",
        "    crop_to_aspect_ratio= False\n",
        "\n",
        "\n",
        ")"
      ]
    },
    {
      "cell_type": "code",
      "execution_count": null,
      "metadata": {
        "colab": {
          "base_uri": "https://localhost:8080/"
        },
        "id": "UX70adEkXjRc",
        "outputId": "f9195fa5-9597-4392-ba4e-e7321d85eb10"
      },
      "outputs": [
        {
          "output_type": "stream",
          "name": "stdout",
          "text": [
            "Found 351 files belonging to 36 classes.\n"
          ]
        }
      ],
      "source": [
        "validation_set1= tf.keras.utils.image_dataset_from_directory(\n",
        "    '/content/drive/MyDrive/project_unv/validation',\n",
        "    labels=\"inferred\",\n",
        "    label_mode=\"categorical\",\n",
        "    class_names=None,\n",
        "    color_mode=\"rgb\",\n",
        "    batch_size=32,\n",
        "    image_size=(64, 64),\n",
        "    shuffle=True,\n",
        "    seed=None,\n",
        "    validation_split=None,\n",
        "    subset=None,\n",
        "    interpolation=\"bilinear\",\n",
        "    follow_links=False,\n",
        "    crop_to_aspect_ratio=False\n",
        "\n",
        ")"
      ]
    },
    {
      "cell_type": "markdown",
      "metadata": {
        "id": "xew2PXY00Qdj"
      },
      "source": [
        "Model building"
      ]
    },
    {
      "cell_type": "code",
      "execution_count": null,
      "metadata": {
        "id": "Ca5-OzvYvHn3"
      },
      "outputs": [],
      "source": [
        "cnn1 = tf.keras.models.Sequential()"
      ]
    },
    {
      "cell_type": "markdown",
      "metadata": {
        "id": "DIV07BTr5fal"
      },
      "source": [
        "convolution layer"
      ]
    },
    {
      "cell_type": "code",
      "execution_count": null,
      "metadata": {
        "id": "VY_fMUAg4eQK"
      },
      "outputs": [],
      "source": [
        "cnn1.add(tf.keras.layers.Conv2D(filters=32,kernel_size=3,padding='same',activation='relu',input_shape=[64,64,3]))\n",
        "cnn1.add(tf.keras.layers.Conv2D(filters=32,kernel_size=3,activation='relu'))\n",
        "cnn1.add(tf.keras.layers.MaxPool2D(pool_size=2,strides=2))"
      ]
    },
    {
      "cell_type": "code",
      "execution_count": null,
      "metadata": {
        "id": "ruVz__WfQF2w"
      },
      "outputs": [],
      "source": [
        "#cnn1.add(tf.keras.layers.Dropout(0.25))"
      ]
    },
    {
      "cell_type": "code",
      "execution_count": null,
      "metadata": {
        "id": "ZTH2w5fF7FOc"
      },
      "outputs": [],
      "source": [
        "cnn1.add(tf.keras.layers.Conv2D(filters=64,kernel_size=3,padding='same',activation='relu'))\n",
        "cnn1.add(tf.keras.layers.Conv2D(filters=64,kernel_size=3,activation='relu'))\n",
        "cnn1.add(tf.keras.layers.MaxPool2D(pool_size=2,strides=2))"
      ]
    },
    {
      "cell_type": "code",
      "execution_count": null,
      "metadata": {
        "id": "3Nc9g9NH7TLr"
      },
      "outputs": [],
      "source": [
        "#cnn1.add(tf.keras.layers.Dropout(0.5)) #to avoid overfitting"
      ]
    },
    {
      "cell_type": "code",
      "execution_count": null,
      "metadata": {
        "id": "In6rVhfb7q5l"
      },
      "outputs": [],
      "source": [
        "cnn1.add(tf.keras.layers.Flatten())"
      ]
    },
    {
      "cell_type": "code",
      "execution_count": null,
      "metadata": {
        "id": "WisNJ-D18HRD"
      },
      "outputs": [],
      "source": [
        "\n",
        "cnn1.add(tf.keras.layers.Dense(units=512,activation='relu'))"
      ]
    },
    {
      "cell_type": "code",
      "execution_count": null,
      "metadata": {
        "id": "ecZva6GLQ4Cm"
      },
      "outputs": [],
      "source": [
        "cnn1.add(tf.keras.layers.Dense(units=256,activation='relu'))"
      ]
    },
    {
      "cell_type": "code",
      "source": [
        "cnn1.add(tf.keras.layers.Dropout(0.5))"
      ],
      "metadata": {
        "id": "IEmfrd6rOSs4"
      },
      "execution_count": null,
      "outputs": []
    },
    {
      "cell_type": "markdown",
      "metadata": {
        "id": "pc-JnkcXRdkz"
      },
      "source": [
        "0OUTPUT LAYER"
      ]
    },
    {
      "cell_type": "code",
      "execution_count": null,
      "metadata": {
        "id": "BMzNuZK98fVr"
      },
      "outputs": [],
      "source": [
        "cnn1.add(tf.keras.layers.Dense(units=36, activation='softmax'))"
      ]
    },
    {
      "cell_type": "markdown",
      "metadata": {
        "id": "tj5bIMTPLZVM"
      },
      "source": [
        "compiling and training"
      ]
    },
    {
      "cell_type": "code",
      "execution_count": null,
      "metadata": {
        "id": "x6TXwPTN8-Ks"
      },
      "outputs": [],
      "source": [
        "cnn1.compile(optimizer='adam',loss='categorical_crossentropy', metrics='accuracy')"
      ]
    },
    {
      "cell_type": "code",
      "execution_count": null,
      "metadata": {
        "colab": {
          "base_uri": "https://localhost:8080/"
        },
        "id": "M56LdcXGNGaS",
        "outputId": "1ffdcae5-75cd-4186-8ba2-3f2e16c4da7c"
      },
      "outputs": [
        {
          "output_type": "stream",
          "name": "stdout",
          "text": [
            "Epoch 1/32\n",
            "98/98 [==============================] - 576s 5s/step - loss: 6.3507 - accuracy: 0.0327 - val_loss: 3.5803 - val_accuracy: 0.0256\n",
            "Epoch 2/32\n",
            "98/98 [==============================] - 163s 2s/step - loss: 3.5751 - accuracy: 0.0337 - val_loss: 3.5271 - val_accuracy: 0.0712\n",
            "Epoch 3/32\n",
            "98/98 [==============================] - 157s 2s/step - loss: 3.5490 - accuracy: 0.0427 - val_loss: 3.5651 - val_accuracy: 0.0456\n",
            "Epoch 4/32\n",
            "98/98 [==============================] - 163s 2s/step - loss: 3.4711 - accuracy: 0.0578 - val_loss: 3.4080 - val_accuracy: 0.0741\n",
            "Epoch 5/32\n",
            "98/98 [==============================] - 151s 1s/step - loss: 3.3433 - accuracy: 0.0764 - val_loss: 3.1372 - val_accuracy: 0.1339\n",
            "Epoch 6/32\n",
            "98/98 [==============================] - 155s 2s/step - loss: 3.1686 - accuracy: 0.1133 - val_loss: 2.8681 - val_accuracy: 0.1880\n",
            "Epoch 7/32\n",
            "98/98 [==============================] - 150s 1s/step - loss: 2.9770 - accuracy: 0.1650 - val_loss: 2.6652 - val_accuracy: 0.2934\n",
            "Epoch 8/32\n",
            "98/98 [==============================] - 163s 2s/step - loss: 2.8248 - accuracy: 0.2090 - val_loss: 2.5293 - val_accuracy: 0.3248\n",
            "Epoch 9/32\n",
            "98/98 [==============================] - 146s 1s/step - loss: 2.6439 - accuracy: 0.2555 - val_loss: 2.2437 - val_accuracy: 0.3618\n",
            "Epoch 10/32\n",
            "98/98 [==============================] - 154s 1s/step - loss: 2.4097 - accuracy: 0.3278 - val_loss: 2.0638 - val_accuracy: 0.4615\n",
            "Epoch 11/32\n",
            "98/98 [==============================] - 163s 2s/step - loss: 2.2256 - accuracy: 0.3766 - val_loss: 1.9233 - val_accuracy: 0.5071\n",
            "Epoch 12/32\n",
            "98/98 [==============================] - 158s 2s/step - loss: 2.0379 - accuracy: 0.4343 - val_loss: 1.8574 - val_accuracy: 0.5100\n",
            "Epoch 13/32\n",
            "98/98 [==============================] - 154s 1s/step - loss: 1.8485 - accuracy: 0.4767 - val_loss: 1.5670 - val_accuracy: 0.5954\n",
            "Epoch 14/32\n",
            "98/98 [==============================] - 155s 1s/step - loss: 1.8668 - accuracy: 0.4886 - val_loss: 1.5449 - val_accuracy: 0.5983\n",
            "Epoch 15/32\n",
            "98/98 [==============================] - 158s 2s/step - loss: 1.7003 - accuracy: 0.5297 - val_loss: 1.4445 - val_accuracy: 0.6325\n",
            "Epoch 16/32\n",
            "98/98 [==============================] - 156s 2s/step - loss: 1.5297 - accuracy: 0.5785 - val_loss: 1.2670 - val_accuracy: 0.6895\n",
            "Epoch 17/32\n",
            "98/98 [==============================] - 147s 1s/step - loss: 1.4473 - accuracy: 0.5987 - val_loss: 1.3332 - val_accuracy: 0.6553\n",
            "Epoch 18/32\n",
            "98/98 [==============================] - 164s 2s/step - loss: 1.3614 - accuracy: 0.6292 - val_loss: 1.2435 - val_accuracy: 0.6724\n",
            "Epoch 19/32\n",
            "98/98 [==============================] - 157s 2s/step - loss: 1.1860 - accuracy: 0.6716 - val_loss: 1.1516 - val_accuracy: 0.7208\n",
            "Epoch 20/32\n",
            "98/98 [==============================] - 158s 2s/step - loss: 1.1706 - accuracy: 0.6835 - val_loss: 1.1344 - val_accuracy: 0.7493\n",
            "Epoch 21/32\n",
            "98/98 [==============================] - 165s 2s/step - loss: 0.9563 - accuracy: 0.7371 - val_loss: 0.8920 - val_accuracy: 0.8034\n",
            "Epoch 22/32\n",
            "98/98 [==============================] - 158s 2s/step - loss: 0.8886 - accuracy: 0.7531 - val_loss: 0.7602 - val_accuracy: 0.8177\n",
            "Epoch 23/32\n",
            "98/98 [==============================] - 155s 1s/step - loss: 0.6943 - accuracy: 0.8019 - val_loss: 0.7372 - val_accuracy: 0.8632\n",
            "Epoch 24/32\n",
            "98/98 [==============================] - 158s 2s/step - loss: 0.6623 - accuracy: 0.8193 - val_loss: 0.7430 - val_accuracy: 0.8746\n",
            "Epoch 25/32\n",
            "98/98 [==============================] - 157s 2s/step - loss: 0.5932 - accuracy: 0.8343 - val_loss: 0.5924 - val_accuracy: 0.8832\n",
            "Epoch 26/32\n",
            "98/98 [==============================] - 154s 2s/step - loss: 0.5989 - accuracy: 0.8459 - val_loss: 0.6264 - val_accuracy: 0.9003\n",
            "Epoch 27/32\n",
            "98/98 [==============================] - 157s 2s/step - loss: 0.5050 - accuracy: 0.8655 - val_loss: 0.7141 - val_accuracy: 0.8889\n",
            "Epoch 28/32\n",
            "98/98 [==============================] - 163s 2s/step - loss: 0.4597 - accuracy: 0.8738 - val_loss: 0.6024 - val_accuracy: 0.9031\n",
            "Epoch 29/32\n",
            "98/98 [==============================] - 159s 2s/step - loss: 0.4138 - accuracy: 0.8896 - val_loss: 0.5577 - val_accuracy: 0.9088\n",
            "Epoch 30/32\n",
            "98/98 [==============================] - 155s 2s/step - loss: 0.4260 - accuracy: 0.8899 - val_loss: 0.5906 - val_accuracy: 0.9345\n",
            "Epoch 31/32\n",
            "98/98 [==============================] - 156s 2s/step - loss: 0.3590 - accuracy: 0.9108 - val_loss: 0.6179 - val_accuracy: 0.9231\n",
            "Epoch 32/32\n",
            "98/98 [==============================] - 156s 2s/step - loss: 0.3097 - accuracy: 0.9152 - val_loss: 0.5950 - val_accuracy: 0.9316\n"
          ]
        }
      ],
      "source": [
        "training_history1=cnn1.fit(x=training_set1,validation_data=validation_set1,epochs=32)"
      ]
    },
    {
      "cell_type": "markdown",
      "metadata": {
        "id": "stTMLS_so3WC"
      },
      "source": [
        "saving models"
      ]
    },
    {
      "cell_type": "code",
      "execution_count": null,
      "metadata": {
        "id": "gRQCIx9cN_vo",
        "colab": {
          "base_uri": "https://localhost:8080/"
        },
        "outputId": "d9f073be-5ba5-495b-e97c-3368886005c4"
      },
      "outputs": [
        {
          "output_type": "stream",
          "name": "stderr",
          "text": [
            "/usr/local/lib/python3.10/dist-packages/keras/src/engine/training.py:3103: UserWarning: You are saving your model as an HDF5 file via `model.save()`. This file format is considered legacy. We recommend using instead the native Keras format, e.g. `model.save('my_model.keras')`.\n",
            "  saving_api.save_model(\n"
          ]
        }
      ],
      "source": [
        "cnn1.save('trained_model2.h5')\n",
        "\n",
        "\n"
      ]
    },
    {
      "cell_type": "markdown",
      "metadata": {
        "id": "X1SCoYLipX36"
      },
      "source": [
        "recording history"
      ]
    },
    {
      "cell_type": "markdown",
      "source": [],
      "metadata": {
        "id": "8-s0mmjpp-63"
      }
    },
    {
      "cell_type": "markdown",
      "metadata": {
        "id": "D88xepNwu3Rp"
      },
      "source": [
        "recording history in json"
      ]
    },
    {
      "cell_type": "code",
      "execution_count": null,
      "metadata": {
        "id": "t_G64NPxpICh"
      },
      "outputs": [],
      "source": [
        "import json\n",
        "with open('training_hist.json','w') as f:\n",
        "   json.dump(training_history1.history, f)"
      ]
    },
    {
      "cell_type": "markdown",
      "source": [
        "calculating accuracy of model achieved on validation set"
      ],
      "metadata": {
        "id": "RQtx1LpUjsqN"
      }
    },
    {
      "cell_type": "code",
      "execution_count": null,
      "metadata": {
        "id": "Pb-7-2fUuJJu",
        "colab": {
          "base_uri": "https://localhost:8080/"
        },
        "outputId": "16c9e982-424e-470b-dd81-756e9d4001de"
      },
      "outputs": [
        {
          "output_type": "stream",
          "name": "stdout",
          "text": [
            "Validation set accuracy: 93.16239356994629\n"
          ]
        }
      ],
      "source": [
        "print(f'Validation set accuracy: {(training_history1.history[\"val_accuracy\"][-1]*100)}')"
      ]
    },
    {
      "cell_type": "markdown",
      "source": [
        "accuracy visualization"
      ],
      "metadata": {
        "id": "eG5C5Ojl15vt"
      }
    },
    {
      "cell_type": "markdown",
      "source": [
        "training visualization"
      ],
      "metadata": {
        "id": "oQ-wSzN91_SZ"
      }
    },
    {
      "cell_type": "code",
      "source": [
        "epochs1= [i for i in range(1,33)]\n",
        "plt.plot(epochs1,training_history1.history['accuracy'],color='green')\n",
        "plt.xlabel('No. of Epoch')\n",
        "plt.ylabel('Training Accuracy')\n",
        "plt.title('Training Accuracy Result')\n",
        "plt.show()"
      ],
      "metadata": {
        "id": "lZiNTmColPjX",
        "colab": {
          "base_uri": "https://localhost:8080/",
          "height": 472
        },
        "outputId": "555a053d-2d88-4d28-accc-834d8f76d51f"
      },
      "execution_count": null,
      "outputs": [
        {
          "output_type": "display_data",
          "data": {
            "text/plain": [
              "<Figure size 640x480 with 1 Axes>"
            ],
            "image/png": "[encoded data removed]"
          },
          "metadata": {}
        }
      ]
    },
    {
      "cell_type": "markdown",
      "source": [
        "Validation Accuracy"
      ],
      "metadata": {
        "id": "iQXcJe4S_ZFZ"
      }
    },
    {
      "cell_type": "code",
      "source": [
        "plt.plot(epochs1,training_history1.history['val_accuracy'],color='blue')\n",
        "plt.xlabel('No. of Epoch')\n",
        "plt.ylabel('Validation Accuracy')\n",
        "plt.title('Validation Accuracy Result')\n",
        "plt.show()"
      ],
      "metadata": {
        "colab": {
          "base_uri": "https://localhost:8080/",
          "height": 472
        },
        "id": "zj0_Sbs53L6B",
        "outputId": "cd97a2d1-b94c-4cfb-f865-a56c1a09464e"
      },
      "execution_count": null,
      "outputs": [
        {
          "output_type": "display_data",
          "data": {
            "text/plain": [
              "<Figure size 640x480 with 1 Axes>"
            ],
            "image/png": "[encoded data removed]"
          },
          "metadata": {}
        }
      ]
    },
    {
      "cell_type": "code",
      "source": [
        "training_loss , training_accuracy = cnn1.evaluate(training_set1)"
      ],
      "metadata": {
        "id": "i9QplAKh_ucL",
        "colab": {
          "base_uri": "https://localhost:8080/"
        },
        "outputId": "342da0ca-ea0c-43dc-a4b6-5402a2ece7d4"
      },
      "execution_count": null,
      "outputs": [
        {
          "output_type": "stream",
          "name": "stdout",
          "text": [
            "98/98 [==============================] - 93s 864ms/step - loss: 0.2504 - accuracy: 0.9326\n"
          ]
        }
      ]
    },
    {
      "cell_type": "code",
      "source": [
        "validation_loss , validation_accuracy = cnn1.evaluate(validation_set1)"
      ],
      "metadata": {
        "colab": {
          "base_uri": "https://localhost:8080/"
        },
        "id": "iElw8gNBy8SN",
        "outputId": "c2250b77-474f-4b24-dca4-38d848ee7e02"
      },
      "execution_count": null,
      "outputs": [
        {
          "output_type": "stream",
          "name": "stdout",
          "text": [
            "11/11 [==============================] - 13s 341ms/step - loss: 0.5950 - accuracy: 0.9316\n"
          ]
        }
      ]
    },
    {
      "cell_type": "code",
      "source": [
        "test_set1= tf.keras.utils.image_dataset_from_directory(\n",
        "    '/content/drive/MyDrive/project_unv/test', labels='inferred', label_mode='categorical',\n",
        "    class_names=None,\n",
        "    color_mode='rgb',\n",
        "    batch_size= 32, image_size=(64,64),\n",
        "    shuffle= True,\n",
        "    seed=None,\n",
        "    validation_split=None,\n",
        "    subset=None,\n",
        "    interpolation='bilinear',\n",
        "    follow_links=False,\n",
        "    crop_to_aspect_ratio= False\n",
        "\n",
        "\n",
        ")"
      ],
      "metadata": {
        "colab": {
          "base_uri": "https://localhost:8080/"
        },
        "id": "uNSheYE1xc_B",
        "outputId": "131884c6-2df8-412a-f2db-14ea322b6e3b"
      },
      "execution_count": null,
      "outputs": [
        {
          "output_type": "stream",
          "name": "stdout",
          "text": [
            "Found 359 files belonging to 36 classes.\n"
          ]
        }
      ]
    },
    {
      "cell_type": "code",
      "source": [
        "test_loss , test_accuracy = cnn1.evaluate(test_set1)"
      ],
      "metadata": {
        "colab": {
          "base_uri": "https://localhost:8080/"
        },
        "id": "9yal2gd0zHVU",
        "outputId": "d7c031a5-4b83-408a-eec3-0886938ed21c"
      },
      "execution_count": null,
      "outputs": [
        {
          "output_type": "stream",
          "name": "stdout",
          "text": [
            "12/12 [==============================] - 49s 869ms/step - loss: 0.5820 - accuracy: 0.9331\n"
          ]
        }
      ]
    },
    {
      "cell_type": "code",
      "source": [],
      "metadata": {
        "id": "CNAz-Eta1mwz"
      },
      "execution_count": null,
      "outputs": []
    }
  ],
  "metadata": {
    "colab": {
      "provenance": [],
      "mount_file_id": "16Q5xMTOiuWBkEeWOqCJ7_AdOlyeJf7JJ",
      "authorship_tag": "ABX9TyMzQzMHXh+qXvoChiBnHxlJ",
      "include_colab_link": true
    },
    "kernelspec": {
      "display_name": "Python 3",
      "name": "python3"
    },
    "language_info": {
      "name": "python"
    }
  },
  "nbformat": 4,
  "nbformat_minor": 0
}